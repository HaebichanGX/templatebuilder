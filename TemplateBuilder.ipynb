{
 "cells": [
  {
   "cell_type": "code",
   "execution_count": 37,
   "id": "20d51e76-a234-4851-b7a8-fbfcefd72003",
   "metadata": {},
   "outputs": [
    {
     "data": {
      "application/vnd.jupyter.widget-view+json": {
       "model_id": "ac7690e66bca4bd7a6f20f712628397a",
       "version_major": 2,
       "version_minor": 0
      },
      "text/plain": [
       "RadioButtons(description='Select your data source:', options=('Pandas', 'Spark', 'SQL'), value='Pandas')"
      ]
     },
     "metadata": {},
     "output_type": "display_data"
    },
    {
     "data": {
      "application/vnd.jupyter.widget-view+json": {
       "model_id": "ba4e567ae5f24014962d7539e523d648",
       "version_major": 2,
       "version_minor": 0
      },
      "text/plain": [
       "Button(description='Next', style=ButtonStyle())"
      ]
     },
     "metadata": {},
     "output_type": "display_data"
    },
    {
     "data": {
      "application/vnd.jupyter.widget-view+json": {
       "model_id": "5ce6da8668cb4ed081df0393640ad668",
       "version_major": 2,
       "version_minor": 0
      },
      "text/plain": [
       "Output()"
      ]
     },
     "metadata": {},
     "output_type": "display_data"
    },
    {
     "data": {
      "application/vnd.jupyter.widget-view+json": {
       "model_id": "c93f8617041a40e69bd1b58a7775d26d",
       "version_major": 2,
       "version_minor": 0
      },
      "text/plain": [
       "Button(description='Choose Asset', layout=Layout(visibility='hidden'), style=ButtonStyle())"
      ]
     },
     "metadata": {},
     "output_type": "display_data"
    },
    {
     "data": {
      "application/vnd.jupyter.widget-view+json": {
       "model_id": "b32be47a194e4a10972f81dcc8c7bdf5",
       "version_major": 2,
       "version_minor": 0
      },
      "text/plain": [
       "Output()"
      ]
     },
     "metadata": {},
     "output_type": "display_data"
    },
    {
     "data": {
      "application/vnd.jupyter.widget-view+json": {
       "model_id": "e56e377d733f4570a0accc83b7839d5f",
       "version_major": 2,
       "version_minor": 0
      },
      "text/plain": [
       "Button(description='Choose Splitter', layout=Layout(visibility='hidden'), style=ButtonStyle())"
      ]
     },
     "metadata": {},
     "output_type": "display_data"
    },
    {
     "data": {
      "application/vnd.jupyter.widget-view+json": {
       "model_id": "8cd688e4b05341efae93707aed0a9633",
       "version_major": 2,
       "version_minor": 0
      },
      "text/plain": [
       "Output()"
      ]
     },
     "metadata": {},
     "output_type": "display_data"
    },
    {
     "data": {
      "application/vnd.jupyter.widget-view+json": {
       "model_id": "95e28c093f3c4856b46488c8aa1ed6fd",
       "version_major": 2,
       "version_minor": 0
      },
      "text/plain": [
       "Button(description='Run Template Builder', layout=Layout(visibility='hidden'), style=ButtonStyle())"
      ]
     },
     "metadata": {},
     "output_type": "display_data"
    },
    {
     "data": {
      "application/vnd.jupyter.widget-view+json": {
       "model_id": "f2274f182482451aaf1a197f598951c3",
       "version_major": 2,
       "version_minor": 0
      },
      "text/plain": [
       "Textarea(value='', description='Copy code', layout=Layout(height='200px', width='auto'), rows=10)"
      ]
     },
     "metadata": {},
     "output_type": "display_data"
    }
   ],
   "source": [
    "import ipywidgets as widgets\n",
    "from IPython.display import display\n",
    "\n",
    "reference_file_path = '/Users/jungh/Desktop/reference.py'\n",
    "save_file_path = 'output.py'\n",
    "\n",
    "batch_regex_message = 'Split/save data separately, use batching regex'\n",
    "in_memory_dataframe_splitter_message = 'No splitters in-memory dataframes. Use Pandas/Spark to filter data manually'\n",
    "batching_regex_datasource_functions = ['add_pandas_filesystem','add_pandas_gcs','add_spark_gcs']\n",
    "\n",
    "\n",
    "# Define the available data sources\n",
    "data_sources = ['Pandas', 'Spark', 'SQL']\n",
    "\n",
    "# Initialize the output widgets\n",
    "output_options = widgets.Output()\n",
    "output_asset = widgets.Output()\n",
    "output_splitter = widgets.Output()\n",
    "output_code = widgets.Output()\n",
    "\n",
    "# Define the radio button for selecting the data source\n",
    "data_source_radio = widgets.RadioButtons(\n",
    "    options=data_sources,\n",
    "    description='Select your data source:'\n",
    ")\n",
    "\n",
    "# Define the \"Next\" button\n",
    "next_button = widgets.Button(description='Next')\n",
    "\n",
    "# Define the \"Choose Asset\" button\n",
    "choose_asset_button = widgets.Button(description='Choose Asset')\n",
    "choose_asset_button.layout.visibility = 'hidden'  # Hide initially\n",
    "\n",
    "# Define the \"Choose Splitter\" button\n",
    "choose_splitter_button = widgets.Button(description='Choose Splitter')\n",
    "choose_splitter_button.layout.visibility = 'hidden'  # Hide initially\n",
    "\n",
    "# Define the \"Run Template Builder\" button\n",
    "run_template_builder_button = widgets.Button(description='Run Template Builder')\n",
    "run_template_builder_button.layout.visibility = 'hidden'  # Hide initially\n",
    "\n",
    "# Define the options for each data source\n",
    "options = {\n",
    "    'Pandas': ['add_pandas', 'add_pandas_filesystem', 'add_pandas_gcs'],\n",
    "    'Spark': ['add_spark', 'add_spark_filesystem', 'add_spark_gcs'],\n",
    "    'SQL': ['add_sql', 'add_sqlite']\n",
    "}\n",
    "\n",
    "# Define the asset options\n",
    "asset_options = {\n",
    "    'add_pandas': ['add_dataframe_asset'],\n",
    "    'add_pandas_filesystem': ['add_csv_asset', 'add_json_asset', 'add_parquet_asset'],\n",
    "    'add_pandas_gcs': ['add_csv_asset', 'add_json_asset', 'add_parquet_asset'],\n",
    "    'add_spark': ['add_dataframe_asset'],\n",
    "    'add_spark_filesystem': ['add_csv_asset', 'add_json_asset', 'add_parquet_asset'],\n",
    "    'add_spark_gcs': ['add_csv_asset', 'add_json_asset', 'add_parquet_asset'],\n",
    "    'add_sql': ['add_query_asset', 'add_table_asset'],\n",
    "    'add_sqlite': ['add_query_asset', 'add_table_asset']\n",
    "}\n",
    "\n",
    "# Define the splitter options\n",
    "splitter_options = {\n",
    "    'add_dataframe_asset': [in_memory_dataframe_splitter_message],    \n",
    "    'sql_message': ['add_splitter_column_value', 'add_splitter_year', 'add_splitter_*'],\n",
    "    'batch_regex_message': [batch_regex_message]\n",
    "}\n",
    "\n",
    "# Define the widgets for the options and asset selection\n",
    "options_widget = widgets.RadioButtons(\n",
    "    options=[],\n",
    "    description='Select an option:'\n",
    ")\n",
    "asset_widget = widgets.RadioButtons(\n",
    "    options=[],\n",
    "    description='Select an asset:'\n",
    ")\n",
    "splitter_widget = widgets.RadioButtons(\n",
    "    options=[],\n",
    "    description='Select a splitter:'\n",
    ")\n",
    "\n",
    "textarea_widget = widgets.Textarea(\n",
    "    description='Copy code',\n",
    "    rows=10,  # Increase the number of rows\n",
    "    layout=widgets.Layout(width='auto', height='200px')  # Adjust the height using the `height` property\n",
    ")\n",
    "\n",
    "output_file_content = widgets.Output()\n",
    "\n",
    "# sys.stdout = io.StringIO()\n",
    "# sys.stdout = output_file_content\n",
    "\n",
    "# Define the previous selections\n",
    "previous_selections = {\n",
    "    'data_source': None,\n",
    "    'option': None,\n",
    "    'asset': None\n",
    "}\n",
    "\n",
    "# Define the selected output variables\n",
    "selected_output_option = None\n",
    "selected_output_asset = None\n",
    "\n",
    "# Define the callback function for handling the \"Next\" button click\n",
    "def on_next_button_click(b):\n",
    "    output_options.clear_output()\n",
    "    output_asset.clear_output()\n",
    "    output_splitter.clear_output()\n",
    "    \n",
    "    selected_data_source = data_source_radio.value\n",
    "    \n",
    "    with output_options:\n",
    "        options_widget.options = options.get(selected_data_source, [])\n",
    "        options_widget.value = None\n",
    "        choose_asset_button.layout.visibility = 'visible'\n",
    "        display(options_widget)\n",
    "        \n",
    "        # Reset subsequent selections if the data source is changed\n",
    "        if selected_data_source != previous_selections['data_source']:\n",
    "            previous_selections['option'] = None\n",
    "            previous_selections['asset'] = None\n",
    "            choose_splitter_button.layout.visibility = 'hidden'\n",
    "            output_asset.clear_output()\n",
    "            output_splitter.clear_output()\n",
    "\n",
    "    previous_selections['data_source'] = selected_data_source\n",
    "\n",
    "# Define the callback function for handling the \"Choose Asset\" button click\n",
    "def on_choose_asset_button_click(b):\n",
    "    output_asset.clear_output()\n",
    "    output_splitter.clear_output()\n",
    "     \n",
    "    selected_option = options_widget.value\n",
    "    \n",
    "    with output_asset:\n",
    "        if selected_option:\n",
    "            assets = asset_options.get(selected_option, [])\n",
    "            if assets:                                \n",
    "                asset_widget.options = assets\n",
    "                asset_widget.value = None\n",
    "                choose_splitter_button.layout.visibility = 'visible'\n",
    "                display(asset_widget)\n",
    "\n",
    "                # Store the selected option\n",
    "                global selected_output_option\n",
    "                selected_output_option = selected_option\n",
    "                    \n",
    "                # Reset subsequent selections if the option is changed\n",
    "                if selected_option != previous_selections['option']:\n",
    "                    previous_selections['asset'] = None\n",
    "                    output_splitter.clear_output()\n",
    "\n",
    "    previous_selections['option'] = selected_option\n",
    "    \n",
    "\n",
    "# Define the callback function for handling the \"Choose Splitter\" button click\n",
    "def on_choose_splitter_button_click(b):\n",
    "    output_splitter.clear_output()\n",
    "\n",
    "    global selected_output_asset\n",
    "    selected_output_asset = asset_widget.value\n",
    "    selected_option = options_widget.value    \n",
    "    \n",
    "    with output_splitter:        \n",
    "        if 'sql' in selected_option:\n",
    "            splitters = splitter_options['sql_message']\n",
    "            \n",
    "            if splitters:\n",
    "                splitter_widget.options = splitters\n",
    "                splitter_widget.value = None\n",
    "                display(splitter_widget)\n",
    "\n",
    "        elif selected_option == 'add_spark_filesystem':\n",
    "            splitters = splitter_options['sql_message']\n",
    "            splitters.append(batch_regex_message)\n",
    "            if splitters:\n",
    "                splitter_widget.options = splitters\n",
    "                splitter_widget.value = None\n",
    "                display(splitter_widget)    \n",
    "        \n",
    "        elif selected_output_asset == 'add_dataframe_asset':\n",
    "            splitters = splitter_options['add_dataframe_asset']\n",
    "            if splitters:\n",
    "                splitter_widget.options = splitters\n",
    "                splitter_widget.value = None\n",
    "                display(splitter_widget)    \n",
    "\n",
    "        elif selected_option in batching_regex_datasource_functions:            \n",
    "            splitters = splitter_options['batch_regex_message']                \n",
    "            if splitters:\n",
    "                splitter_widget.options = splitters\n",
    "                splitter_widget.value = None\n",
    "                display(splitter_widget)\n",
    "\n",
    "        run_template_builder_button.layout.visibility = 'visible'\n",
    "\n",
    "    previous_selections['asset'] = selected_output_asset\n",
    "\n",
    "def on_run_template_builder_function(b):\n",
    "\n",
    "    global selected_output_splitter\n",
    "    selected_output_splitter = splitter_widget.value\n",
    "\n",
    "    output_code = generate_template(reference_file_path, selected_output_option, selected_output_asset, selected_output_splitter)\n",
    "\n",
    "    textarea_widget.value = str(output_code)\n",
    "    # display(textarea_widget)\n",
    "\n",
    "    # with output_file_content:\n",
    "    #     output_file_content.clear_output()\n",
    "    #     print(output_code)\n",
    "        # sys.stdout.write(output_code)\n",
    "\n",
    "def generate_template(reference_file_path, selected_output_option, selected_output_asset, selected_output_splitter):\n",
    "\n",
    "    list_of_commands = ['initial import', selected_output_option, selected_output_asset, selected_output_splitter,'build_batch_request', 'add_expectation_suite', 'validator']\n",
    "\n",
    "    code = ''\n",
    "    for command in list_of_commands: \n",
    "        code += get_code_snippet_by_name(reference_file_path, command) + '\\n'\n",
    "\n",
    "    code = code + '...'\n",
    "        \n",
    "    # Open the file in write mode\n",
    "    with open(save_file_path, 'w') as file:\n",
    "        # Write the string content to the file\n",
    "        file.write(code)\n",
    "    \n",
    "    print(\"String saved to\", save_file_path)\n",
    "\n",
    "    return code\n",
    "\n",
    "def get_code_snippet_by_name(file_path, snippet_name):\n",
    "    with open(file_path, 'r') as f:\n",
    "        lines = f.readlines()\n",
    "\n",
    "    snippet_code = []\n",
    "    snippet_found = False\n",
    "\n",
    "    for line in lines:\n",
    "        if line.strip().startswith(f'# <snippet name=\"{snippet_name}\"'):\n",
    "            snippet_found = True\n",
    "        elif line.strip().startswith(\"# </snippet>\"):\n",
    "            if snippet_found:\n",
    "                break\n",
    "            else:\n",
    "                snippet_code = []\n",
    "        elif snippet_found:\n",
    "            snippet_code.append(line)\n",
    "\n",
    "    if snippet_code:\n",
    "        return ''.join(snippet_code)\n",
    "    else:\n",
    "        # print(f\"No code snippet found with name '{snippet_name}' in file '{file_path}'.\")\n",
    "        return ''\n",
    "\n",
    "    \n",
    "# Register the callback functions to the button click events\n",
    "next_button.on_click(on_next_button_click)\n",
    "choose_asset_button.on_click(on_choose_asset_button_click)\n",
    "choose_splitter_button.on_click(on_choose_splitter_button_click)\n",
    "run_template_builder_button.on_click(on_run_template_builder_function)\n",
    "\n",
    "# Display the widgets\n",
    "display(data_source_radio)\n",
    "display(next_button)\n",
    "display(output_options)\n",
    "display(choose_asset_button)\n",
    "display(output_asset)\n",
    "display(choose_splitter_button)\n",
    "display(output_splitter)\n",
    "display(run_template_builder_button)\n",
    "# display(output_file_content)\n",
    "display(textarea_widget)"
   ]
  },
  {
   "cell_type": "code",
   "execution_count": null,
   "id": "86b627cd-0fbb-4912-aa60-9fcdf293562b",
   "metadata": {},
   "outputs": [],
   "source": []
  },
  {
   "cell_type": "code",
   "execution_count": null,
   "id": "8542074b-2db7-439c-959b-8b8d5a3cb65d",
   "metadata": {},
   "outputs": [],
   "source": []
  },
  {
   "cell_type": "code",
   "execution_count": null,
   "id": "948e72f9-8bf7-4174-9014-4b0dd2d57643",
   "metadata": {},
   "outputs": [],
   "source": []
  }
 ],
 "metadata": {
  "kernelspec": {
   "display_name": "Python 3 (ipykernel)",
   "language": "python",
   "name": "python3"
  },
  "language_info": {
   "codemirror_mode": {
    "name": "ipython",
    "version": 3
   },
   "file_extension": ".py",
   "mimetype": "text/x-python",
   "name": "python",
   "nbconvert_exporter": "python",
   "pygments_lexer": "ipython3",
   "version": "3.11.3"
  }
 },
 "nbformat": 4,
 "nbformat_minor": 5
}
